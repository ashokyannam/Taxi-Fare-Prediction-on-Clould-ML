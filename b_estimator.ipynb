{
 "cells": [
  {
   "cell_type": "markdown",
   "metadata": {},
   "source": [
    "<h1> Machine Learning using tf.estimator </h1>\n",
    "\n",
    "In this notebook, we will create a machine learning model using tf.estimator and evaluate its performance.  The dataset is rather small (7700 samples), so we can do it all in-memory.  We will also simply pass the raw data in as-is. "
   ]
  },
  {
   "cell_type": "code",
   "execution_count": 1,
   "metadata": {},
   "outputs": [
    {
     "name": "stderr",
     "output_type": "stream",
     "text": [
      "/usr/local/envs/py2env/lib/python2.7/site-packages/h5py/__init__.py:36: FutureWarning: Conversion of the second argument of issubdtype from `float` to `np.floating` is deprecated. In future, it will be treated as `np.float64 == np.dtype(float).type`.\n",
      "  from ._conv import register_converters as _register_converters\n"
     ]
    },
    {
     "name": "stdout",
     "output_type": "stream",
     "text": [
      "1.8.0\n"
     ]
    }
   ],
   "source": [
    "import datalab.bigquery as bq\n",
    "import tensorflow as tf\n",
    "import pandas as pd\n",
    "import numpy as np\n",
    "import shutil\n",
    "\n",
    "print tf.__version__"
   ]
  },
  {
   "cell_type": "markdown",
   "metadata": {},
   "source": [
    "Read data created in the previous chapter."
   ]
  },
  {
   "cell_type": "code",
   "execution_count": 2,
   "metadata": {},
   "outputs": [],
   "source": [
    "# In CSV, label is the first column, after the features, followed by the key\n",
    "CSV_COLUMNS = ['fare_amount', 'pickuplon','pickuplat','dropofflon','dropofflat','passengers', 'key']\n",
    "FEATURES = CSV_COLUMNS[1:len(CSV_COLUMNS) - 1]\n",
    "LABEL = CSV_COLUMNS[0]\n",
    "\n",
    "df_train = pd.read_csv('./taxi-train.csv', header = None, names = CSV_COLUMNS)\n",
    "df_valid = pd.read_csv('./taxi-valid.csv', header = None, names = CSV_COLUMNS)"
   ]
  },
  {
   "cell_type": "markdown",
   "metadata": {},
   "source": [
    "<h2> Input function to read from Pandas Dataframe into tf.constant </h2>"
   ]
  },
  {
   "cell_type": "code",
   "execution_count": 3,
   "metadata": {},
   "outputs": [],
   "source": [
    "def make_input_fn(df, num_epochs):\n",
    "  return tf.estimator.inputs.pandas_input_fn(\n",
    "    x = df,\n",
    "    y = df[LABEL],\n",
    "    batch_size = 128,\n",
    "    num_epochs = num_epochs,\n",
    "    shuffle = True,\n",
    "    queue_capacity = 1000,\n",
    "    num_threads = 1\n",
    "  )"
   ]
  },
  {
   "cell_type": "markdown",
   "metadata": {},
   "source": [
    "### Create feature columns for estimator"
   ]
  },
  {
   "cell_type": "code",
   "execution_count": 4,
   "metadata": {},
   "outputs": [],
   "source": [
    "def make_feature_cols():\n",
    "  input_columns = [tf.feature_column.numeric_column(k) for k in FEATURES]\n",
    "  return input_columns"
   ]
  },
  {
   "cell_type": "markdown",
   "metadata": {},
   "source": [
    "<h3> Linear Regression with tf.Estimator framework </h3>"
   ]
  },
  {
   "cell_type": "code",
   "execution_count": 5,
   "metadata": {},
   "outputs": [
    {
     "name": "stdout",
     "output_type": "stream",
     "text": [
      "INFO:tensorflow:Using default config.\n",
      "INFO:tensorflow:Using config: {'_save_checkpoints_secs': 600, '_session_config': None, '_keep_checkpoint_max': 5, '_task_type': 'worker', '_train_distribute': None, '_is_chief': True, '_cluster_spec': <tensorflow.python.training.server_lib.ClusterSpec object at 0x7fec76aa0c10>, '_evaluation_master': '', '_save_checkpoints_steps': None, '_keep_checkpoint_every_n_hours': 10000, '_service': None, '_num_ps_replicas': 0, '_tf_random_seed': None, '_master': '', '_num_worker_replicas': 1, '_task_id': 0, '_log_step_count_steps': 100, '_model_dir': 'taxi_trained', '_global_id_in_cluster': 0, '_save_summary_steps': 100}\n",
      "INFO:tensorflow:Calling model_fn.\n",
      "INFO:tensorflow:Done calling model_fn.\n",
      "INFO:tensorflow:Create CheckpointSaverHook.\n",
      "INFO:tensorflow:Graph was finalized.\n",
      "INFO:tensorflow:Running local_init_op.\n",
      "INFO:tensorflow:Done running local_init_op.\n",
      "INFO:tensorflow:Saving checkpoints for 1 into taxi_trained/model.ckpt.\n",
      "INFO:tensorflow:loss = 25504.086, step = 1\n",
      "INFO:tensorflow:global_step/sec: 302.379\n",
      "INFO:tensorflow:loss = 7709.872, step = 101 (0.335 sec)\n",
      "INFO:tensorflow:global_step/sec: 314.899\n",
      "INFO:tensorflow:loss = 10373.95, step = 201 (0.316 sec)\n",
      "INFO:tensorflow:global_step/sec: 365.309\n",
      "INFO:tensorflow:loss = 5487.7725, step = 301 (0.274 sec)\n",
      "INFO:tensorflow:global_step/sec: 365.673\n",
      "INFO:tensorflow:loss = 14940.895, step = 401 (0.273 sec)\n",
      "INFO:tensorflow:global_step/sec: 315.093\n",
      "INFO:tensorflow:loss = 17084.098, step = 501 (0.319 sec)\n",
      "INFO:tensorflow:global_step/sec: 359.712\n",
      "INFO:tensorflow:loss = 14960.932, step = 601 (0.277 sec)\n",
      "INFO:tensorflow:Saving checkpoints for 608 into taxi_trained/model.ckpt.\n",
      "INFO:tensorflow:Loss for final step: 170.43617.\n"
     ]
    },
    {
     "data": {
      "text/plain": [
       "<tensorflow.python.estimator.canned.linear.LinearRegressor at 0x7fecb6c86810>"
      ]
     },
     "execution_count": 5,
     "metadata": {},
     "output_type": "execute_result"
    }
   ],
   "source": [
    "tf.logging.set_verbosity(tf.logging.INFO)\n",
    "\n",
    "OUTDIR = 'taxi_trained'\n",
    "shutil.rmtree(OUTDIR, ignore_errors = True) # start fresh each time\n",
    "\n",
    "model = tf.estimator.LinearRegressor(\n",
    "      feature_columns = make_feature_cols(), model_dir = OUTDIR)\n",
    "\n",
    "model.train(input_fn = make_input_fn(df_train, num_epochs = 10))"
   ]
  },
  {
   "cell_type": "markdown",
   "metadata": {},
   "source": [
    "Evaluate on the validation data (we should defer using the test data to after we have selected a final model)."
   ]
  },
  {
   "cell_type": "code",
   "execution_count": 6,
   "metadata": {},
   "outputs": [
    {
     "name": "stdout",
     "output_type": "stream",
     "text": [
      "INFO:tensorflow:Calling model_fn.\n",
      "INFO:tensorflow:Done calling model_fn.\n",
      "INFO:tensorflow:Starting evaluation at 2018-09-04-21:37:16\n",
      "INFO:tensorflow:Graph was finalized.\n",
      "INFO:tensorflow:Restoring parameters from taxi_trained/model.ckpt-608\n",
      "INFO:tensorflow:Running local_init_op.\n",
      "INFO:tensorflow:Done running local_init_op.\n",
      "INFO:tensorflow:Finished evaluation at 2018-09-04-21:37:17\n",
      "INFO:tensorflow:Saving dict for global step 608: average_loss = 78.92895, global_step = 608, loss = 9386.907\n",
      "RMSE on validation dataset = 8.88419628143\n"
     ]
    }
   ],
   "source": [
    "def print_rmse(model, name, df):\n",
    "  metrics = model.evaluate(input_fn = make_input_fn(df, 1))\n",
    "  print 'RMSE on {} dataset = {}'.format(name, np.sqrt(metrics['average_loss']))\n",
    "print_rmse(model, 'validation', df_valid)"
   ]
  },
  {
   "cell_type": "markdown",
   "metadata": {},
   "source": [
    "This is nowhere near our benchmark (RMSE of $6 or so on this data), but it serves to demonstrate what TensorFlow code looks like.  Let's use this model for prediction."
   ]
  },
  {
   "cell_type": "code",
   "execution_count": 7,
   "metadata": {},
   "outputs": [
    {
     "name": "stdout",
     "output_type": "stream",
     "text": [
      "INFO:tensorflow:Using default config.\n",
      "INFO:tensorflow:Using config: {'_save_checkpoints_secs': 600, '_session_config': None, '_keep_checkpoint_max': 5, '_task_type': 'worker', '_train_distribute': None, '_is_chief': True, '_cluster_spec': <tensorflow.python.training.server_lib.ClusterSpec object at 0x7fec7418c2d0>, '_evaluation_master': '', '_save_checkpoints_steps': None, '_keep_checkpoint_every_n_hours': 10000, '_service': None, '_num_ps_replicas': 0, '_tf_random_seed': None, '_master': '', '_num_worker_replicas': 1, '_task_id': 0, '_log_step_count_steps': 100, '_model_dir': 'taxi_trained', '_global_id_in_cluster': 0, '_save_summary_steps': 100}\n",
      "INFO:tensorflow:Calling model_fn.\n",
      "INFO:tensorflow:Done calling model_fn.\n",
      "INFO:tensorflow:Graph was finalized.\n",
      "INFO:tensorflow:Restoring parameters from taxi_trained/model.ckpt-608\n",
      "INFO:tensorflow:Running local_init_op.\n",
      "INFO:tensorflow:Done running local_init_op.\n",
      "[11.034441, 11.034088, 11.03306, 11.048592, 11.0836]\n"
     ]
    }
   ],
   "source": [
    "import itertools\n",
    "# Read saved model and use it for prediction\n",
    "model = tf.estimator.LinearRegressor(\n",
    "      feature_columns = make_feature_cols(), model_dir = OUTDIR)\n",
    "preds_iter = model.predict(input_fn = make_input_fn(df_valid, 1))\n",
    "print [pred['predictions'][0] for pred in list(itertools.islice(preds_iter, 5))]"
   ]
  },
  {
   "cell_type": "markdown",
   "metadata": {},
   "source": [
    "This explains why the RMSE was so high -- the model essentially predicts the same amount for every trip.  Would a more complex model help? Let's try using a deep neural network.  The code to do this is quite straightforward as well."
   ]
  },
  {
   "cell_type": "markdown",
   "metadata": {},
   "source": [
    "<h3> Deep Neural Network regression </h3>"
   ]
  },
  {
   "cell_type": "code",
   "execution_count": 8,
   "metadata": {},
   "outputs": [
    {
     "name": "stdout",
     "output_type": "stream",
     "text": [
      "INFO:tensorflow:Using default config.\n",
      "INFO:tensorflow:Using config: {'_save_checkpoints_secs': 600, '_session_config': None, '_keep_checkpoint_max': 5, '_task_type': 'worker', '_train_distribute': None, '_is_chief': True, '_cluster_spec': <tensorflow.python.training.server_lib.ClusterSpec object at 0x7fec7407fe10>, '_evaluation_master': '', '_save_checkpoints_steps': None, '_keep_checkpoint_every_n_hours': 10000, '_service': None, '_num_ps_replicas': 0, '_tf_random_seed': None, '_master': '', '_num_worker_replicas': 1, '_task_id': 0, '_log_step_count_steps': 100, '_model_dir': 'taxi_trained', '_global_id_in_cluster': 0, '_save_summary_steps': 100}\n",
      "INFO:tensorflow:Calling model_fn.\n",
      "INFO:tensorflow:Done calling model_fn.\n",
      "INFO:tensorflow:Create CheckpointSaverHook.\n",
      "INFO:tensorflow:Graph was finalized.\n",
      "INFO:tensorflow:Running local_init_op.\n",
      "INFO:tensorflow:Done running local_init_op.\n",
      "INFO:tensorflow:Saving checkpoints for 1 into taxi_trained/model.ckpt.\n",
      "INFO:tensorflow:loss = 37225.21, step = 1\n",
      "INFO:tensorflow:global_step/sec: 221.193\n",
      "INFO:tensorflow:loss = 21266.184, step = 101 (0.459 sec)\n",
      "INFO:tensorflow:global_step/sec: 317.003\n",
      "INFO:tensorflow:loss = 22217.477, step = 201 (0.313 sec)\n",
      "INFO:tensorflow:global_step/sec: 330.96\n",
      "INFO:tensorflow:loss = 19035.82, step = 301 (0.302 sec)\n",
      "INFO:tensorflow:global_step/sec: 265.469\n",
      "INFO:tensorflow:loss = 14589.896, step = 401 (0.377 sec)\n",
      "INFO:tensorflow:global_step/sec: 310.908\n",
      "INFO:tensorflow:loss = 18987.188, step = 501 (0.321 sec)\n",
      "INFO:tensorflow:global_step/sec: 318.599\n",
      "INFO:tensorflow:loss = 33301.867, step = 601 (0.314 sec)\n",
      "INFO:tensorflow:global_step/sec: 295.129\n",
      "INFO:tensorflow:loss = 18890.332, step = 701 (0.339 sec)\n",
      "INFO:tensorflow:global_step/sec: 312.63\n",
      "INFO:tensorflow:loss = 16006.558, step = 801 (0.320 sec)\n",
      "INFO:tensorflow:global_step/sec: 327.915\n",
      "INFO:tensorflow:loss = 23594.477, step = 901 (0.305 sec)\n",
      "INFO:tensorflow:global_step/sec: 219.957\n",
      "INFO:tensorflow:loss = 20662.027, step = 1001 (0.454 sec)\n",
      "INFO:tensorflow:global_step/sec: 317.997\n",
      "INFO:tensorflow:loss = 13341.172, step = 1101 (0.315 sec)\n",
      "INFO:tensorflow:global_step/sec: 320.835\n",
      "INFO:tensorflow:loss = 25323.016, step = 1201 (0.312 sec)\n",
      "INFO:tensorflow:global_step/sec: 255.152\n",
      "INFO:tensorflow:loss = 22744.137, step = 1301 (0.392 sec)\n",
      "INFO:tensorflow:global_step/sec: 311.158\n",
      "INFO:tensorflow:loss = 17542.902, step = 1401 (0.321 sec)\n",
      "INFO:tensorflow:global_step/sec: 321.642\n",
      "INFO:tensorflow:loss = 13372.02, step = 1501 (0.313 sec)\n",
      "INFO:tensorflow:global_step/sec: 287.25\n",
      "INFO:tensorflow:loss = 23218.885, step = 1601 (0.346 sec)\n",
      "INFO:tensorflow:global_step/sec: 320.881\n",
      "INFO:tensorflow:loss = 21593.04, step = 1701 (0.311 sec)\n",
      "INFO:tensorflow:global_step/sec: 321.591\n",
      "INFO:tensorflow:loss = 11512.379, step = 1801 (0.311 sec)\n",
      "INFO:tensorflow:global_step/sec: 228.073\n",
      "INFO:tensorflow:loss = 23438.656, step = 1901 (0.441 sec)\n",
      "INFO:tensorflow:global_step/sec: 305.654\n",
      "INFO:tensorflow:loss = 28107.438, step = 2001 (0.325 sec)\n",
      "INFO:tensorflow:global_step/sec: 279.328\n",
      "INFO:tensorflow:loss = 14262.014, step = 2101 (0.359 sec)\n",
      "INFO:tensorflow:global_step/sec: 252.383\n",
      "INFO:tensorflow:loss = 20397.46, step = 2201 (0.396 sec)\n",
      "INFO:tensorflow:global_step/sec: 301.553\n",
      "INFO:tensorflow:loss = 12701.971, step = 2301 (0.332 sec)\n",
      "INFO:tensorflow:global_step/sec: 260.646\n",
      "INFO:tensorflow:loss = 12822.779, step = 2401 (0.384 sec)\n",
      "INFO:tensorflow:global_step/sec: 324.591\n",
      "INFO:tensorflow:loss = 13593.592, step = 2501 (0.308 sec)\n",
      "INFO:tensorflow:global_step/sec: 318.17\n",
      "INFO:tensorflow:loss = 19404.727, step = 2601 (0.315 sec)\n",
      "INFO:tensorflow:global_step/sec: 280.282\n",
      "INFO:tensorflow:loss = 16278.51, step = 2701 (0.357 sec)\n",
      "INFO:tensorflow:global_step/sec: 319.854\n",
      "INFO:tensorflow:loss = 16746.773, step = 2801 (0.313 sec)\n",
      "INFO:tensorflow:global_step/sec: 322.456\n",
      "INFO:tensorflow:loss = 11089.448, step = 2901 (0.310 sec)\n",
      "INFO:tensorflow:global_step/sec: 243.742\n",
      "INFO:tensorflow:loss = 12348.068, step = 3001 (0.410 sec)\n",
      "INFO:tensorflow:global_step/sec: 315.998\n",
      "INFO:tensorflow:loss = 15822.993, step = 3101 (0.316 sec)\n",
      "INFO:tensorflow:global_step/sec: 322.363\n",
      "INFO:tensorflow:loss = 18521.385, step = 3201 (0.310 sec)\n",
      "INFO:tensorflow:global_step/sec: 213.408\n",
      "INFO:tensorflow:loss = 14948.393, step = 3301 (0.472 sec)\n",
      "INFO:tensorflow:global_step/sec: 309.971\n",
      "INFO:tensorflow:loss = 14877.35, step = 3401 (0.320 sec)\n",
      "INFO:tensorflow:global_step/sec: 310.894\n",
      "INFO:tensorflow:loss = 33112.973, step = 3501 (0.322 sec)\n",
      "INFO:tensorflow:global_step/sec: 273.798\n",
      "INFO:tensorflow:loss = 19412.266, step = 3601 (0.366 sec)\n",
      "INFO:tensorflow:global_step/sec: 301.145\n",
      "INFO:tensorflow:loss = 17348.172, step = 3701 (0.332 sec)\n",
      "INFO:tensorflow:global_step/sec: 323.246\n",
      "INFO:tensorflow:loss = 7725.198, step = 3801 (0.310 sec)\n",
      "INFO:tensorflow:global_step/sec: 265.741\n",
      "INFO:tensorflow:loss = 16140.555, step = 3901 (0.376 sec)\n",
      "INFO:tensorflow:global_step/sec: 317.606\n",
      "INFO:tensorflow:loss = 13500.117, step = 4001 (0.315 sec)\n",
      "INFO:tensorflow:global_step/sec: 314.614\n",
      "INFO:tensorflow:loss = 15168.07, step = 4101 (0.319 sec)\n",
      "INFO:tensorflow:global_step/sec: 256.092\n",
      "INFO:tensorflow:loss = 10839.806, step = 4201 (0.389 sec)\n",
      "INFO:tensorflow:global_step/sec: 311.907\n",
      "INFO:tensorflow:loss = 12738.197, step = 4301 (0.321 sec)\n",
      "INFO:tensorflow:global_step/sec: 318.867\n",
      "INFO:tensorflow:loss = 12331.053, step = 4401 (0.314 sec)\n",
      "INFO:tensorflow:global_step/sec: 259.233\n",
      "INFO:tensorflow:loss = 20927.377, step = 4501 (0.386 sec)\n",
      "INFO:tensorflow:global_step/sec: 307.904\n",
      "INFO:tensorflow:loss = 18409.713, step = 4601 (0.325 sec)\n",
      "INFO:tensorflow:global_step/sec: 314.002\n",
      "INFO:tensorflow:loss = 16767.242, step = 4701 (0.319 sec)\n",
      "INFO:tensorflow:global_step/sec: 255.559\n",
      "INFO:tensorflow:loss = 11759.288, step = 4801 (0.392 sec)\n",
      "INFO:tensorflow:global_step/sec: 298.599\n",
      "INFO:tensorflow:loss = 18375.148, step = 4901 (0.334 sec)\n",
      "INFO:tensorflow:global_step/sec: 285.465\n",
      "INFO:tensorflow:loss = 17425.95, step = 5001 (0.352 sec)\n",
      "INFO:tensorflow:global_step/sec: 282.268\n",
      "INFO:tensorflow:loss = 26326.312, step = 5101 (0.353 sec)\n",
      "INFO:tensorflow:global_step/sec: 315.683\n",
      "INFO:tensorflow:loss = 7282.604, step = 5201 (0.317 sec)\n",
      "INFO:tensorflow:global_step/sec: 254.9\n",
      "INFO:tensorflow:loss = 8090.255, step = 5301 (0.393 sec)\n",
      "INFO:tensorflow:global_step/sec: 318.478\n",
      "INFO:tensorflow:loss = 12639.459, step = 5401 (0.314 sec)\n",
      "INFO:tensorflow:global_step/sec: 309.794\n",
      "INFO:tensorflow:loss = 25493.164, step = 5501 (0.323 sec)\n",
      "INFO:tensorflow:global_step/sec: 251.911\n",
      "INFO:tensorflow:loss = 13894.205, step = 5601 (0.399 sec)\n",
      "INFO:tensorflow:global_step/sec: 327.508\n",
      "INFO:tensorflow:loss = 22743.023, step = 5701 (0.303 sec)\n",
      "INFO:tensorflow:global_step/sec: 321.331\n",
      "INFO:tensorflow:loss = 9478.682, step = 5801 (0.313 sec)\n",
      "INFO:tensorflow:global_step/sec: 224.556\n",
      "INFO:tensorflow:loss = 20927.275, step = 5901 (0.443 sec)\n",
      "INFO:tensorflow:global_step/sec: 323.325\n",
      "INFO:tensorflow:loss = 16721.7, step = 6001 (0.309 sec)\n",
      "INFO:tensorflow:Saving checkpoints for 6071 into taxi_trained/model.ckpt.\n",
      "INFO:tensorflow:Loss for final step: 2945.9543.\n",
      "INFO:tensorflow:Calling model_fn.\n",
      "INFO:tensorflow:Done calling model_fn.\n",
      "INFO:tensorflow:Starting evaluation at 2018-09-04-21:38:29\n",
      "INFO:tensorflow:Graph was finalized.\n",
      "INFO:tensorflow:Restoring parameters from taxi_trained/model.ckpt-6071\n",
      "INFO:tensorflow:Running local_init_op.\n",
      "INFO:tensorflow:Done running local_init_op.\n",
      "INFO:tensorflow:Finished evaluation at 2018-09-04-21:38:30\n",
      "INFO:tensorflow:Saving dict for global step 6071: average_loss = 97.140915, global_step = 6071, loss = 11552.83\n",
      "RMSE on validation dataset = 9.85600948334\n"
     ]
    }
   ],
   "source": [
    "tf.logging.set_verbosity(tf.logging.INFO)\n",
    "shutil.rmtree(OUTDIR, ignore_errors = True) # start fresh each time\n",
    "model = tf.estimator.DNNRegressor(hidden_units = [32, 8, 2],\n",
    "      feature_columns = make_feature_cols(), model_dir = OUTDIR)\n",
    "model.train(input_fn = make_input_fn(df_train, num_epochs = 100));\n",
    "print_rmse(model, 'validation', df_valid)"
   ]
  },
  {
   "cell_type": "markdown",
   "metadata": {},
   "source": [
    "We are not beating our benchmark with either model ... what's up?  Well, we may be using TensorFlow for Machine Learning, but we are not yet using it well.  That's what the rest of this course is about!\n",
    "\n",
    "But, for the record, let's say we had to choose between the two models. We'd choose the one with the lower validation error. Finally, we'd measure the RMSE on the test data with this chosen model."
   ]
  },
  {
   "cell_type": "markdown",
   "metadata": {},
   "source": [
    "<h2> Benchmark dataset </h2>\n",
    "\n",
    "Let's do this on the benchmark dataset."
   ]
  },
  {
   "cell_type": "code",
   "execution_count": 9,
   "metadata": {},
   "outputs": [],
   "source": [
    "import datalab.bigquery as bq\n",
    "import numpy as np\n",
    "import pandas as pd\n",
    "\n",
    "\n",
    "def create_query(phase, EVERY_N):\n",
    "  \"\"\"\n",
    "  phase: 1 = train 2 = valid\n",
    "  \"\"\"\n",
    "  base_query = \"\"\"\n",
    "SELECT\n",
    "  (tolls_amount + fare_amount) AS fare_amount,\n",
    "  CONCAT(STRING(pickup_datetime), STRING(pickup_longitude), STRING(pickup_latitude), STRING(dropoff_latitude), STRING(dropoff_longitude)) AS key,\n",
    "  DAYOFWEEK(pickup_datetime)*1.0 AS dayofweek,\n",
    "  HOUR(pickup_datetime)*1.0 AS hourofday,\n",
    "  pickup_longitude AS pickuplon,\n",
    "  pickup_latitude AS pickuplat,\n",
    "  dropoff_longitude AS dropofflon,\n",
    "  dropoff_latitude AS dropofflat,\n",
    "  passenger_count*1.0 AS passengers,\n",
    "FROM\n",
    "  [nyc-tlc:yellow.trips]\n",
    "WHERE\n",
    "  trip_distance > 0\n",
    "  AND fare_amount >= 2.5\n",
    "  AND pickup_longitude > -78\n",
    "  AND pickup_longitude < -70\n",
    "  AND dropoff_longitude > -78\n",
    "  AND dropoff_longitude < -70\n",
    "  AND pickup_latitude > 37\n",
    "  AND pickup_latitude < 45\n",
    "  AND dropoff_latitude > 37\n",
    "  AND dropoff_latitude < 45\n",
    "  AND passenger_count > 0\n",
    "  \"\"\"\n",
    "\n",
    "  if EVERY_N == None:\n",
    "    if phase < 2:\n",
    "      # Training\n",
    "      query = \"{0} AND ABS(HASH(pickup_datetime)) % 4 < 2\".format(base_query)\n",
    "    else:\n",
    "      # Validation\n",
    "      query = \"{0} AND ABS(HASH(pickup_datetime)) % 4 == {1}\".format(base_query, phase)\n",
    "  else:\n",
    "    query = \"{0} AND ABS(HASH(pickup_datetime)) % {1} == {2}\".format(base_query, EVERY_N, phase)\n",
    "    \n",
    "  return query\n",
    "\n",
    "query = create_query(2, 100000)\n",
    "df = bq.Query(query).to_dataframe()"
   ]
  },
  {
   "cell_type": "code",
   "execution_count": 10,
   "metadata": {},
   "outputs": [
    {
     "name": "stdout",
     "output_type": "stream",
     "text": [
      "INFO:tensorflow:Calling model_fn.\n",
      "INFO:tensorflow:Done calling model_fn.\n",
      "INFO:tensorflow:Starting evaluation at 2018-09-04-21:39:48\n",
      "INFO:tensorflow:Graph was finalized.\n",
      "INFO:tensorflow:Restoring parameters from taxi_trained/model.ckpt-6071\n",
      "INFO:tensorflow:Running local_init_op.\n",
      "INFO:tensorflow:Done running local_init_op.\n",
      "INFO:tensorflow:Finished evaluation at 2018-09-04-21:39:49\n",
      "INFO:tensorflow:Saving dict for global step 6071: average_loss = 111.21006, global_step = 6071, loss = 14135.083\n",
      "RMSE on benchmark dataset = 10.5456180573\n"
     ]
    }
   ],
   "source": [
    "print_rmse(model, 'benchmark', df)"
   ]
  },
  {
   "cell_type": "markdown",
   "metadata": {},
   "source": [
    "RMSE on benchmark dataset is <b>9.41</b> (your results will vary because of random seeds).\n",
    "\n",
    "This is not only way more than our original benchmark of 6.00, but it doesn't even beat our distance-based rule's RMSE of 8.02.\n",
    "\n",
    "Fear not -- you have learned how to write a TensorFlow model, but not to do all the things that you will have to do to your ML model performant. We will do this in the next chapters. In this chapter though, we will get our TensorFlow model ready for these improvements.\n",
    "\n",
    "In a software sense, the rest of the labs in this chapter will be about refactoring the code so that we can improve it."
   ]
  },
  {
   "cell_type": "markdown",
   "metadata": {},
   "source": [
    "Copyright 2017 Google Inc. Licensed under the Apache License, Version 2.0 (the \"License\"); you may not use this file except in compliance with the License. You may obtain a copy of the License at http://www.apache.org/licenses/LICENSE-2.0 Unless required by applicable law or agreed to in writing, software distributed under the License is distributed on an \"AS IS\" BASIS, WITHOUT WARRANTIES OR CONDITIONS OF ANY KIND, either express or implied. See the License for the specific language governing permissions and limitations under the License"
   ]
  }
 ],
 "metadata": {
  "kernelspec": {
   "display_name": "Python 2",
   "language": "python",
   "name": "python2"
  },
  "language_info": {
   "codemirror_mode": {
    "name": "ipython",
    "version": 2
   },
   "file_extension": ".py",
   "mimetype": "text/x-python",
   "name": "python",
   "nbconvert_exporter": "python",
   "pygments_lexer": "ipython2",
   "version": "2.7.15"
  }
 },
 "nbformat": 4,
 "nbformat_minor": 1
}
